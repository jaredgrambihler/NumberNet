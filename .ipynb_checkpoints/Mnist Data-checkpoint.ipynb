{
 "cells": [
  {
   "cell_type": "markdown",
   "metadata": {},
   "source": [
    "Mnist training images are at:\n",
    "http://yann.lecun.com/exdb/mnist/\n",
    "    \n",
    "training sets\n",
    "train-images-idx3-ubyte.gz:  training set images (9912422 bytes)\n",
    "train-labels-idx1-ubyte.gz:  training set labels (28881 bytes)\n",
    "t10k-images-idx3-ubyte.gz:   test set images (1648877 bytes)\n",
    "t10k-labels-idx1-ubyte.gz:   test set labels (4542 bytes) \n",
    "    "
   ]
  },
  {
   "cell_type": "code",
   "execution_count": 6,
   "metadata": {},
   "outputs": [],
   "source": [
    "# files are download and loaded form a mnist folder created as a subfolder under\n",
    "# the location of this python notebook\n",
    "\n",
    "mnistDir = \"mnist/\"\n",
    "\n",
    "#make sure samples subfolder exists\n",
    "os.makedirs(mnistDir, exist_ok=True)"
   ]
  },
  {
   "cell_type": "code",
   "execution_count": 7,
   "metadata": {},
   "outputs": [],
   "source": [
    "# download the images from minst to a samples subfolder from this pyton notebook\n",
    "# Only need to do this step once to get the data downloaded.\n",
    "import gzip\n",
    "import os\n",
    "import urllib.request\n",
    "\n",
    "\n",
    "def downloadMnisttFile(mnistFile, outputDir):\n",
    "    handle = urllib.request.urlopen(\"http://yann.lecun.com/exdb/mnist/\" + mnistFile + \".gz\") \n",
    "    zipFile = gzip.GzipFile(fileobj=handle)\n",
    "    with zipFile as infile:\n",
    "            with open(outputDir + mnistFile, 'wb') as outfile:\n",
    "                for line in infile:\n",
    "                    outfile.write(line)\n",
    "\n",
    "#download all the files\n",
    "downloadMnisttFile(\"train-images-idx3-ubyte\", mnistDir)\n",
    "downloadMnisttFile(\"train-labels-idx1-ubyte\", mnistDir)\n",
    "downloadMnisttFile(\"t10k-images-idx3-ubyte\", mnistDir)\n",
    "downloadMnisttFile(\"t10k-labels-idx1-ubyte\", mnistDir)\n",
    "\n"
   ]
  },
  {
   "cell_type": "code",
   "execution_count": 10,
   "metadata": {},
   "outputs": [
    {
     "ename": "ImportError",
     "evalue": "cannot import name 'MNIST'",
     "output_type": "error",
     "traceback": [
      "\u001b[1;31m---------------------------------------------------------------------------\u001b[0m",
      "\u001b[1;31mImportError\u001b[0m                               Traceback (most recent call last)",
      "\u001b[1;32m<ipython-input-10-5134efde822e>\u001b[0m in \u001b[0;36m<module>\u001b[1;34m()\u001b[0m\n\u001b[0;32m      1\u001b[0m \u001b[1;31m# Use the mnist module to read the data.\u001b[0m\u001b[1;33m\u001b[0m\u001b[1;33m\u001b[0m\u001b[0m\n\u001b[0;32m      2\u001b[0m \u001b[1;31m# you probably have to >pip install mnist\u001b[0m\u001b[1;33m\u001b[0m\u001b[1;33m\u001b[0m\u001b[0m\n\u001b[1;32m----> 3\u001b[1;33m \u001b[1;32mfrom\u001b[0m \u001b[0mmnist\u001b[0m \u001b[1;32mimport\u001b[0m \u001b[0mMNIST\u001b[0m\u001b[1;33m\u001b[0m\u001b[0m\n\u001b[0m\u001b[0;32m      4\u001b[0m \u001b[1;33m\u001b[0m\u001b[0m\n\u001b[0;32m      5\u001b[0m \u001b[0mmndata\u001b[0m \u001b[1;33m=\u001b[0m \u001b[0mMNIST\u001b[0m\u001b[1;33m(\u001b[0m\u001b[0mmnistDir\u001b[0m\u001b[1;33m)\u001b[0m\u001b[1;33m\u001b[0m\u001b[0m\n",
      "\u001b[1;31mImportError\u001b[0m: cannot import name 'MNIST'"
     ]
    }
   ],
   "source": [
    "# Use the mnist module to read the data. \n",
    "# you probably have to >pip install mnist\n",
    "from mnist import MNIST\n",
    "\n",
    "mndata = MNIST(mnistDir)\n",
    "\n",
    "#load traing data\n",
    "imagesTrain, labelsTrain = mndata.load_training()\n",
    "\n",
    "#load test data\n",
    "imagesTest, labelsTest = mndata.load_testing()"
   ]
  },
  {
   "cell_type": "code",
   "execution_count": 9,
   "metadata": {},
   "outputs": [
    {
     "ename": "NameError",
     "evalue": "name 'imagesTrain' is not defined",
     "output_type": "error",
     "traceback": [
      "\u001b[1;31m---------------------------------------------------------------------------\u001b[0m",
      "\u001b[1;31mNameError\u001b[0m                                 Traceback (most recent call last)",
      "\u001b[1;32m<ipython-input-9-c00cebfd2abe>\u001b[0m in \u001b[0;36m<module>\u001b[1;34m()\u001b[0m\n\u001b[0;32m      7\u001b[0m \u001b[1;33m\u001b[0m\u001b[0m\n\u001b[0;32m      8\u001b[0m \u001b[1;31m# make a numpy array from imageTrain Python array\u001b[0m\u001b[1;33m\u001b[0m\u001b[1;33m\u001b[0m\u001b[0m\n\u001b[1;32m----> 9\u001b[1;33m \u001b[0mpixels\u001b[0m \u001b[1;33m=\u001b[0m \u001b[0mnp\u001b[0m\u001b[1;33m.\u001b[0m\u001b[0marray\u001b[0m\u001b[1;33m(\u001b[0m\u001b[0mimagesTrain\u001b[0m\u001b[1;33m[\u001b[0m\u001b[0mimageTrainIndex\u001b[0m\u001b[1;33m]\u001b[0m\u001b[1;33m,\u001b[0m \u001b[0mdtype\u001b[0m\u001b[1;33m=\u001b[0m\u001b[1;34m'uint8'\u001b[0m\u001b[1;33m)\u001b[0m\u001b[1;33m\u001b[0m\u001b[0m\n\u001b[0m\u001b[0;32m     10\u001b[0m \u001b[1;33m\u001b[0m\u001b[0m\n\u001b[0;32m     11\u001b[0m \u001b[1;31m# Reshape the array into 28 x 28 array (2-dimensional array)\u001b[0m\u001b[1;33m\u001b[0m\u001b[1;33m\u001b[0m\u001b[0m\n",
      "\u001b[1;31mNameError\u001b[0m: name 'imagesTrain' is not defined"
     ]
    }
   ],
   "source": [
    "# visualize the first image in the training data\n",
    "# reference: https://stackoverflow.com/questions/37228371/visualize-mnist-dataset-using-opencv-or-matplotlib-pyplot\n",
    "import numpy as np\n",
    "import matplotlib.pyplot as plt\n",
    "\n",
    "imageTrainIndex = 0\n",
    "\n",
    "# make a numpy array from imageTrain Python array\n",
    "pixels = np.array(imagesTrain[imageTrainIndex], dtype='uint8')\n",
    "\n",
    "# Reshape the array into 28 x 28 array (2-dimensional array)\n",
    "pixels = pixels.reshape((28, 28))\n",
    "    \n",
    "plt.title(labelsTrain[imageTrainIndex])\n",
    "plt.imshow(pixels, cmap='gray')\n",
    "plt.show()\n",
    "\n",
    "# print out and show the raw pixels\n",
    "print(pixels)\n"
   ]
  },
  {
   "cell_type": "code",
   "execution_count": null,
   "metadata": {},
   "outputs": [],
   "source": []
  }
 ],
 "metadata": {
  "kernelspec": {
   "display_name": "Python 3",
   "language": "python",
   "name": "python3"
  },
  "language_info": {
   "codemirror_mode": {
    "name": "ipython",
    "version": 3
   },
   "file_extension": ".py",
   "mimetype": "text/x-python",
   "name": "python",
   "nbconvert_exporter": "python",
   "pygments_lexer": "ipython3",
   "version": "3.6.5"
  }
 },
 "nbformat": 4,
 "nbformat_minor": 2
}
